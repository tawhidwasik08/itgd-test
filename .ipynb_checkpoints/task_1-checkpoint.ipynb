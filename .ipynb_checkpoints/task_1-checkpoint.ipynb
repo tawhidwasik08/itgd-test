{
 "cells": [
  {
   "cell_type": "markdown",
   "id": "8ce250c3-174d-43ef-9371-e25738f618ad",
   "metadata": {},
   "source": [
    "# Task 1: Creating a neural network"
   ]
  },
  {
   "cell_type": "markdown",
   "id": "afd57b51-15d6-4dea-9121-51000c59b366",
   "metadata": {},
   "source": [
    "## Libraries"
   ]
  },
  {
   "cell_type": "code",
   "execution_count": 1,
   "id": "634f7348-089c-4ca6-9529-6e2f2100b211",
   "metadata": {},
   "outputs": [],
   "source": [
    "import numpy as np\n",
    "import matplotlib.pyplot as plt\n",
    "from sklearn.metrics import classification_report, confusion_matrix\n",
    "import seaborn as sns\n",
    "import random \n",
    "import tensorflow as tf\n",
    "from tensorflow.keras.datasets import mnist\n",
    "from tensorflow.keras.models import Sequential\n",
    "from tensorflow.keras.layers import Dense, Flatten"
   ]
  },
  {
   "cell_type": "markdown",
   "id": "36e547b0-eb7c-4836-83dc-0f5559b7238a",
   "metadata": {},
   "source": [
    "## Load and preprocess the MNIST dataset"
   ]
  },
  {
   "cell_type": "markdown",
   "id": "a8402d60-76d8-494a-a73b-5cd4a27428d1",
   "metadata": {},
   "source": [
    "First, let's load the dataset and check out it's shapes and how many classes it got."
   ]
  },
  {
   "cell_type": "code",
   "execution_count": 2,
   "id": "b20e7364-f009-4739-9ee1-712886b4b3a7",
   "metadata": {},
   "outputs": [
    {
     "name": "stdout",
     "output_type": "stream",
     "text": [
      "Train shapes: X: (60000, 28, 28), y: (60000,)\n",
      "Test shapes: X: (10000, 28, 28), y: (10000,)\n",
      "Number of unique classes: 10\n"
     ]
    }
   ],
   "source": [
    "(X_train, y_train), (X_test, y_test) = mnist.load_data()\n",
    "\n",
    "print(f'Train shapes: X: {X_train.shape}, y: {y_train.shape}')\n",
    "print(f'Test shapes: X: {X_test.shape}, y: {y_test.shape}')\n",
    "print(f'Number of unique classes: {len(np.unique(y_train))}')"
   ]
  },
  {
   "cell_type": "markdown",
   "id": "0c38e44a-e87d-4f46-af26-41770735a416",
   "metadata": {},
   "source": [
    "Now, let's check out some samples and correspondent labels."
   ]
  },
  {
   "cell_type": "code",
   "execution_count": 3,
   "id": "84735d7b-63b0-4629-a287-6fc06fd2216f",
   "metadata": {},
   "outputs": [
    {
     "data": {
      "image/png": "[encoded data removed]",
      "text/plain": [
       "<Figure size 100x100 with 1 Axes>"
      ]
     },
     "metadata": {},
     "output_type": "display_data"
    },
    {
     "name": "stdout",
     "output_type": "stream",
     "text": [
      "Label: 2\n"
     ]
    }
   ],
   "source": [
    "rand_idx = random.randint(0, len(X_train)-1)\n",
    "# print(X_train[rand_idx])\n",
    "\n",
    "plt.figure(figsize=(1, 1)) \n",
    "plt.imshow(X_train[rand_idx], cmap='gray')\n",
    "plt.show()\n",
    "print(f'Label: {y_train[rand_idx]}')"
   ]
  },
  {
   "cell_type": "markdown",
   "id": "99acd33d-db44-45a0-bd30-4f471bec5d46",
   "metadata": {},
   "source": [
    "In the MNIST dataset, each pixel value ranges from 0 to 255, representing the grayscale intensity. However, before feeding this data into a neural network, it's a good practice to scale these values to a range between 0 and 1. It can help with: \n",
    "* convergence\n",
    "* reducing computational complexity\n",
    "* consistent scaling\n",
    "* stability"
   ]
  },
  {
   "cell_type": "code",
   "execution_count": 4,
   "id": "d98e9825-2712-4d7d-940b-1433cf6fc9fb",
   "metadata": {},
   "outputs": [],
   "source": [
    "X_train = X_train / 255.0\n",
    "X_test = X_test / 255.0"
   ]
  },
  {
   "cell_type": "markdown",
   "id": "370db64a-190c-4dba-8d3e-cfc0a512c4c7",
   "metadata": {},
   "source": [
    "## Building neural network"
   ]
  },
  {
   "cell_type": "markdown",
   "id": "52fc891c-4a4c-4592-b36f-6f741a5fa63b",
   "metadata": {},
   "source": [
    "Now we design the model architecture. Let's break down each layer -\n",
    "* Flatten: Our simple feed forward network needs a flattened input. (28x28) is the size for each image.\n",
    "* 1st Dense: Performs feature extraction and non-linear transformations. For 1st dense I started with 128 units, which overfits the train set and has huge loss on train set. Lowering it to 64 works better.\n",
    "* 2nd Dense: Has 10 units (equal to the number of classes in the MNIST dataset) and uses the softmax activation function. The softmax activation function is suitable for multi-class classification tasks."
   ]
  },
  {
   "cell_type": "code",
   "execution_count": 5,
   "id": "fa51ac23-9028-445c-b1a3-9df2c9918467",
   "metadata": {},
   "outputs": [],
   "source": [
    "model = Sequential([\n",
    "    Flatten(input_shape=(28, 28)),\n",
    "    Dense(64, activation='relu'),  \n",
    "    Dense(10, activation='softmax')\n",
    "])"
   ]
  },
  {
   "cell_type": "markdown",
   "id": "e527d5a4-c721-4809-a2ee-297fefa40650",
   "metadata": {},
   "source": [
    "Now, let's compile our model. Optimzers and loss functions are chosen,\n",
    "* Optimizer - 'adam':  efficient, provides good result across wide range of dl, specially image classification tasks.\n",
    "* Loss Function - 'sparse_categorical_crossentropy': used when labels are integers."
   ]
  },
  {
   "cell_type": "code",
   "execution_count": 6,
   "id": "0e852d4e-d974-43de-a869-eef9e0fc5d5b",
   "metadata": {},
   "outputs": [],
   "source": [
    "model.compile(optimizer='adam',\n",
    "              loss='sparse_categorical_crossentropy',\n",
    "              metrics=['accuracy'])"
   ]
  },
  {
   "cell_type": "markdown",
   "id": "332ea7a6-eb7a-437d-856b-3f1542f74c7a",
   "metadata": {},
   "source": [
    "## Training "
   ]
  },
  {
   "cell_type": "markdown",
   "id": "73517d01-f13a-4cca-a188-ccfe974ec0b7",
   "metadata": {},
   "source": [
    "Now, training the model. \n",
    "* validation_split: a portion of training data (20%) is set aside to evaluate 'on-training' never seen data.\n",
    "\n",
    "We will go over our whole training data 5 times. And it does well easily on train set.\n",
    "\n",
    "Training over for 5 epochs results in very little improvement on accuracy while increasing the validation loss. Also, there is risks of overfitting."
   ]
  },
  {
   "cell_type": "code",
   "execution_count": 7,
   "id": "943d6f96-991b-4b9e-970c-c927bbd3bbff",
   "metadata": {},
   "outputs": [
    {
     "name": "stdout",
     "output_type": "stream",
     "text": [
      "Epoch 1/5\n",
      "1500/1500 [==============================] - 3s 1ms/step - loss: 0.3437 - accuracy: 0.9042 - val_loss: 0.1912 - val_accuracy: 0.9481\n",
      "Epoch 2/5\n",
      "1500/1500 [==============================] - 2s 2ms/step - loss: 0.1722 - accuracy: 0.9501 - val_loss: 0.1453 - val_accuracy: 0.9591\n",
      "Epoch 3/5\n",
      "1500/1500 [==============================] - 2s 2ms/step - loss: 0.1274 - accuracy: 0.9622 - val_loss: 0.1304 - val_accuracy: 0.9638\n",
      "Epoch 4/5\n",
      "1500/1500 [==============================] - 2s 2ms/step - loss: 0.1005 - accuracy: 0.9698 - val_loss: 0.1212 - val_accuracy: 0.9644\n",
      "Epoch 5/5\n",
      "1500/1500 [==============================] - 2s 2ms/step - loss: 0.0815 - accuracy: 0.9752 - val_loss: 0.1033 - val_accuracy: 0.9697\n"
     ]
    },
    {
     "data": {
      "text/plain": [
       "<keras.src.callbacks.History at 0x22a885ff1f0>"
      ]
     },
     "execution_count": 7,
     "metadata": {},
     "output_type": "execute_result"
    }
   ],
   "source": [
    "model.fit(X_train, y_train, epochs=5, validation_split=0.2)"
   ]
  },
  {
   "cell_type": "markdown",
   "id": "cf721db7-dadc-4bcc-87ee-08d3ac506f6b",
   "metadata": {},
   "source": [
    "## Evaluation"
   ]
  },
  {
   "cell_type": "markdown",
   "id": "e28142b5-9948-4301-8277-2fc018e80a91",
   "metadata": {},
   "source": [
    "Accuracy and loss for test sets."
   ]
  },
  {
   "cell_type": "code",
   "execution_count": 8,
   "id": "e0df842a-a66d-41f2-97cc-6386165d5d4d",
   "metadata": {},
   "outputs": [
    {
     "name": "stdout",
     "output_type": "stream",
     "text": [
      "313/313 - 0s - loss: 0.0967 - accuracy: 0.9703 - 365ms/epoch - 1ms/step\n",
      "Test accuracy: 0.970300018787384\n",
      "Test loss: 0.09667481482028961\n"
     ]
    }
   ],
   "source": [
    "test_loss, test_accuracy = model.evaluate(X_test, y_test, verbose=2)\n",
    "print(f\"Test accuracy: {test_accuracy}\")\n",
    "print(f\"Test loss: {test_loss}\")"
   ]
  },
  {
   "cell_type": "markdown",
   "id": "13d8d594-fd1d-49b1-9a0a-578abfe93e9f",
   "metadata": {},
   "source": [
    "Only accuracy can be misleading sometimes. Let's look at some other metrics\n",
    "* precision\n",
    "* recall\n",
    "* f1-score\n",
    "\n",
    "for each class along with respective support count."
   ]
  },
  {
   "cell_type": "code",
   "execution_count": 9,
   "id": "958a62ec-91ec-4bba-92ee-2daa337291a3",
   "metadata": {},
   "outputs": [
    {
     "name": "stdout",
     "output_type": "stream",
     "text": [
      "313/313 [==============================] - 0s 913us/step\n",
      "Classification Report:\n",
      "              precision    recall  f1-score   support\n",
      "\n",
      "           0       0.97      0.99      0.98       980\n",
      "           1       0.98      0.99      0.99      1135\n",
      "           2       0.97      0.97      0.97      1032\n",
      "           3       0.97      0.96      0.97      1010\n",
      "           4       0.97      0.97      0.97       982\n",
      "           5       0.97      0.96      0.97       892\n",
      "           6       0.97      0.97      0.97       958\n",
      "           7       0.96      0.97      0.97      1028\n",
      "           8       0.96      0.97      0.96       974\n",
      "           9       0.97      0.95      0.96      1009\n",
      "\n",
      "    accuracy                           0.97     10000\n",
      "   macro avg       0.97      0.97      0.97     10000\n",
      "weighted avg       0.97      0.97      0.97     10000\n",
      "\n"
     ]
    }
   ],
   "source": [
    "# Get predictions from the model\n",
    "y_pred = model.predict(X_test)\n",
    "\n",
    "# Convert softmax output to class labels\n",
    "y_pred = np.argmax(y_pred, axis=1)\n",
    "\n",
    "# Generate classification report\n",
    "classification_rep = classification_report(y_test, y_pred)\n",
    "\n",
    "print(f\"Classification Report:\\n{classification_rep}\")"
   ]
  },
  {
   "cell_type": "markdown",
   "id": "7c600b64-ec2b-4a33-876f-e03e7dc4d537",
   "metadata": {},
   "source": [
    "The confusion matrix provides a detailed breakdown of how many true positives, true negatives, false positives, and false negatives the model has for each class. It gives insight into where the model might be making mistakes. \n",
    "\n",
    "For example, model has hard time differentiating 9 to 4 and misclassifies 9 as 4 a lot, which is kind of expected given the similarities in handwritten 9 and 4."
   ]
  },
  {
   "cell_type": "code",
   "execution_count": 10,
   "id": "51a164ab-6203-4378-963e-7a13fee52284",
   "metadata": {},
   "outputs": [
    {
     "data": {
      "image/png": "[encoded data removed]",
      "text/plain": [
       "<Figure size 600x400 with 2 Axes>"
      ]
     },
     "metadata": {},
     "output_type": "display_data"
    }
   ],
   "source": [
    "# Generate confusion matrix\n",
    "confusion_mat = confusion_matrix(y_test, y_pred)\n",
    "plt.figure(figsize=(6, 4))\n",
    "sns.heatmap(confusion_mat, annot=True, fmt='d', cmap='Blues', linewidth=1)\n",
    "plt.xlabel('Predicted')\n",
    "plt.ylabel('True')\n",
    "plt.show()"
   ]
  },
  {
   "cell_type": "code",
   "execution_count": null,
   "id": "6485047b-5140-4794-a4c3-ce1993c47ad6",
   "metadata": {},
   "outputs": [],
   "source": []
  }
 ],
 "metadata": {
  "kernelspec": {
   "display_name": "Python 3 (ipykernel)",
   "language": "python",
   "name": "python3"
  },
  "language_info": {
   "codemirror_mode": {
    "name": "ipython",
    "version": 3
   },
   "file_extension": ".py",
   "mimetype": "text/x-python",
   "name": "python",
   "nbconvert_exporter": "python",
   "pygments_lexer": "ipython3",
   "version": "3.10.4"
  }
 },
 "nbformat": 4,
 "nbformat_minor": 5
}
